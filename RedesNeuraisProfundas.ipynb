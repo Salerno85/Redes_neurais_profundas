{
  "nbformat": 4,
  "nbformat_minor": 0,
  "metadata": {
    "colab": {
      "provenance": [],
      "authorship_tag": "ABX9TyORSetdqpGY8DcKRZd2pBAX",
      "include_colab_link": true
    },
    "kernelspec": {
      "name": "python3",
      "display_name": "Python 3"
    },
    "language_info": {
      "name": "python"
    }
  },
  "cells": [
    {
      "cell_type": "markdown",
      "metadata": {
        "id": "view-in-github",
        "colab_type": "text"
      },
      "source": [
        "<a href=\"https://colab.research.google.com/github/Salerno85/Redes_neurais_profundas/blob/main/RedesNeuraisProfundas.ipynb\" target=\"_parent\"><img src=\"https://colab.research.google.com/assets/colab-badge.svg\" alt=\"Open In Colab\"/></a>"
      ]
    },
    {
      "cell_type": "markdown",
      "source": [
        "**REDES NEURAIS PROFUNDAS**"
      ],
      "metadata": {
        "id": "iyFFIDse3YZY"
      }
    },
    {
      "cell_type": "markdown",
      "source": [
        "**2.Leia o artigo Review of deep learning: concepts, CNN architectures, challenges, applications, future directions(https://journalofbigdata.springeropen.com/articles/10.1186/s40537-021-00444-8)(Alzubaidi,L. 2021). Baseado no artigo, descreva os principais desafios e limitações de DL. Quais alternativas os autores dão aos problemas?**\n",
        "\n",
        "\n",
        "*Dentro do contexto das redes neurais profundas (Deep Learning), deparamo-nos com diversos desafios e limitações, tais como dados de treinamento desbalanceados, sobreajuste, e a interpretabilidade dos dados, entre outros. Abordaremos agora três dos principais problemas enfrentados.\n",
        "\n",
        "Limitações com dados de treinamento: O Deep Learning requer uma grande quantidade de dados para obter um modelo com desempenho satisfatório. À medida que a quantidade de dados aumenta, é possível alcançar um modelo mais robusto. Contudo, em muitos casos, pode haver escassez de dados para aplicar o Deep Learning diretamente. Para solucionar essa questão, existem três métodos sugeridos.\n",
        "O primeiro método é a aprendizagem por transferência, que envolve o uso de dados coletados em tarefas semelhantes. Embora esses dados transferidos não aumentem diretamente o conjunto de dados original, eles contribuem para aprimorar a representação e a função de mapeamento dos dados de entrada.\n",
        "\n",
        "Outra técnica consiste em utilizar um modelo bem treinado de uma tarefa semelhante e ajustar suas camadas finais com base nos dados limitados do conjunto original.\n",
        "\n",
        "No segundo método, o aumento de dados é aplicado, especialmente útil em tarefas de processamento de imagens. Esse processo envolve traduzir, espelhar ou rotacionar as imagens, o que geralmente não altera seus rótulos.\n",
        "\n",
        "No terceiro método, dados simulados podem ser criados para aumentar o volume do conjunto de treinamento. Quando o problema é bem compreendido, é possível criar simuladores com base em processos físicos, gerando a quantidade necessária de dados.\n",
        "\n",
        "Em suma, essas abordagens oferecem soluções para contornar a escassez de dados e melhorar o desempenho das redes neurais profundas mesmo em cenários com limitações de treinamento.*\n",
        "\n",
        "**3.Cite 3 aplicações de algoritmos de Deep Learning. Uma delas tem que usar uma solução com CNN e uma delas tem que usar uma solução de RNNs. Explique a aplicação e os resultados obtidos. Não deixe de citar a fonte utilizada, sendo preferencialmente artigos.**\n",
        "\n",
        "*Primeira - No artigo \"ImageNet Classification with Deep Convolutional Neural Networks\", uma rede neural convolucional profunda foi treinada para classificar 1,2 milhão de imagens de alta resolução do concurso ImageNet LSVRC-2010 em 1.000 classes diferentes. Nos dados de teste, a rede obteve taxas de erro top-1 e top-5 de 37,5% e 17,0%, respectivamente, superando significativamente o estado da arte anterior. Essa rede neural possui 60 milhões de parâmetros e 650.000 neurônios, compreendendo cinco camadas convolucionais com camadas de pooling máximo e três camadas totalmente conectadas com um softmax final de 1000 vias. A implementação de GPU e o uso de neurônios não saturados aceleraram o treinamento. Na competição ILSVRC-2012, uma variante desse modelo alcançou uma taxa de erro de 15,3% nos cinco melhores testes, superando o segundo melhor participante que obteve 26,2% de erro.*\n",
        "\n",
        "*Em suma, o Deep Learning é amplamente aplicado no reconhecimento de imagem e o artigo demonstrou resultados impressionantes na classificação de imagens com uma rede neural convolucional profunda.*\n",
        "\n",
        "Fonte: https://dl.acm.org/doi/10.1145/3065386\n",
        "\n",
        "*Segunda - O Deep Learning é amplamente aplicado no processamento de linguagem natural (PLN), sendo usado para traduzir idiomas, criar conteúdo criativo e responder a perguntas de forma informativa. Por exemplo, o Google Translate utiliza o Deep Learning para realizar traduções entre diferentes idiomas.*\n",
        "\n",
        "*No artigo \"Sequence to Sequence Learning with Neural Networks\", é apresentada uma abordagem de aprendizado de sequência de ponta a ponta que faz suposições mínimas sobre a estrutura da sequência. O método utiliza uma arquitetura LSTM (Long Short-Term Memory) de várias camadas para mapear a sequência de entrada em um vetor de dimensionalidade fixa e, em seguida, outro LSTM profundo para decodificar a sequência-alvo a partir desse vetor.*\n",
        "\n",
        "*Os resultados mostram que, na tarefa de tradução de inglês para francês usando o conjunto de dados WMT'14, as traduções produzidas pelo LSTM obtiveram uma pontuação BLEU de 34,8 em todo o conjunto de testes, superando um sistema SMT baseado em frases que alcançou uma pontuação BLEU de 33,3 no mesmo conjunto de dados. Além disso, o LSTM teve um bom desempenho mesmo com frases longas e aprendeu representações sensatas de frases e sentenças, mostrando-se sensível à ordem das palavras e relativamente invariante para a voz ativa e passiva. O artigo demonstra a eficácia do Deep Learning na aplicação de PLN, especialmente em tarefas de tradução de idiomas.*\n",
        "\n",
        "Fonte: https://arxiv.org/abs/1409.3215\n",
        "\n",
        "*Terceira - As redes neurais convolucionais (CNNs) são amplamente utilizadas para identificar objetos em imagens e têm diversas aplicações. Por exemplo, elas podem ser empregadas para identificar pessoas, animais e objetos em imagens, classificar textos como spam ou não-spam, ou ainda para categorizar artigos de notícias como relevantes ou irrelevantes para um determinado tópico. Além disso, as CNNs também são aplicadas na classificação de áudio, como identificação de fala humana ou diferenciação de diferentes tipos de música.*\n",
        "\n",
        "*Em um artigo intitulado \"Automatic Music Genre Classification and Its Relation with Music Education\", foram explorados os resultados bem-sucedidos de redes neurais profundas na classificação de gêneros musicais. O objetivo era desenvolver um algoritmo de aprendizagem profunda que pudesse classificar 10 gêneros musicais diferentes. Para isso, foi utilizada uma rede neural convolucional (CNN), que foi treinada com os coeficientes cepstrais de frequência mel (MFCC) como representação dos segmentos musicais do conjunto de dados. Os MFCCs foram pré-processados a partir das músicas e, após o treinamento do modelo de CNN, os testes alcançaram uma taxa de precisão de 94,5%, que foi considerada como estado da arte na classificação de gêneros musicais com um conjunto de dados menor em comparação com estudos anteriores. O estudo utilizou o método de validação cruzada k-fold para garantir uma avaliação mais precisa.*\n",
        "\n",
        "Fonte: https://eric.ed.gov/?q=Deep+Learning+with+cnn+&id=EJ1302228\n",
        "\n",
        "**4.Vamos fazer uma análise:**\n",
        "\n",
        "*a.Utilize a base Animals-10- originalmente do Kaggle (5000 imagens de 10 animais diferentes), mas disponibilizada em uma versão menor aqui; https://drive.google.com/file/d/1LVGcJro5teH1LS7nZ8inOtxyZlYvkQCh/view*\n",
        "\n",
        "*b.Utilizando um modelo pré-treinado ResNet-50 (presente no Tensorflow/Keras), e realize as extrações de características, fazendo a projeção das imagens no espaço característico (penúltima camada da ResNet-50);*\n",
        "\n",
        "*No codigo*\n",
        "\n",
        "os demais passos abaixo no codigo tmbm:\n",
        "\n",
        "c.Realize a clusterização dos vetores obtidos usando o algoritmo K-médias (K=10);\n",
        "\n",
        "d.Mostre exemplos de imagens dos 10 clusters obtidos;\n",
        "\n",
        "**e.Os resultados foram satisfatórios? Justifique utilizando seus conhecimentos sobre avaliação de clusters;**\n",
        "\n",
        "*Sim. Após a extração de características e projeção no espaço característico, realizando a clusterização com o algoritmo Kmeans, foi observado que das 5000 imagens de 10 animais diferentes, os agrupamentos foram, na maioria das vezes, precisos, mostrando os animais corretos nos 10 clusters. No entanto, em algumas ocasiões, ocorreram erros, mostrando imagens que não estavam relacionadas aos animais esperados, o que pode ser considerado como parte da margem de erro tanto do modelo Resnet50 como da clusterização. Em geral, o modelo e o algoritmo de clusterização apresentaram bons resultados na identificação dos animais, mas é importante levar em conta a possibilidade de pequenos erros e considerar a margem de tolerância para obter uma análise mais precisa.*\n",
        "\n",
        "**f.Disponibilize os códigos, bem como o relatório final no Github;**\n",
        "\n",
        "**5.Utilizando a biblioteca sklearn-llm (você necessitará de uma chave de acesso da openai), crie um classificador de sentimentos usando a classe ZeroShotGPTClassifier com o modelo gpt-3.5-turmo. (use o datasetget_classification_dataset, com os labels [\"positive', \"negative\", \"neutral\"]). Apresente o código realizado.**\n",
        "\n",
        "**Em outro Notebook chamado \"Análise de Sentimento com CHATGPT 3.5\".**\n",
        "\n",
        "\n",
        "\n",
        "\n",
        "\n"
      ],
      "metadata": {
        "id": "2W2ZjxxS2_JZ"
      }
    },
    {
      "cell_type": "markdown",
      "source": [
        "**b.Utilizando um modelo pré-treinado ResNet-50 (presente no Tensorflow/Keras), e realize as extrações de características, fazendo a projeção das imagens no espaço característico (penúltima camada da ResNet-50);**"
      ],
      "metadata": {
        "id": "yQ6a1yCO7v_L"
      }
    }
  ]
}